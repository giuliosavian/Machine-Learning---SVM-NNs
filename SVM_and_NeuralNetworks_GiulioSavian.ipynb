{
  "nbformat": 4,
  "nbformat_minor": 0,
  "metadata": {
    "anaconda-cloud": {},
    "kernelspec": {
      "display_name": "Python 3",
      "language": "python",
      "name": "python3"
    },
    "language_info": {
      "codemirror_mode": {
        "name": "ipython",
        "version": 3
      },
      "file_extension": ".py",
      "mimetype": "text/x-python",
      "name": "python",
      "nbconvert_exporter": "python",
      "pygments_lexer": "ipython3",
      "version": "3.8.3"
    },
    "colab": {
      "name": "NL_GiulioSavian_1167313.ipynb",
      "provenance": [],
      "collapsed_sections": []
    }
  },
  "cells": [
    {
      "cell_type": "markdown",
      "metadata": {
        "id": "08rs8xJFkIOp"
      },
      "source": [
        "Before you turn this problem in, make sure everything runs as expected. First, **restart the kernel** (in the menubar, select Kernel$\\rightarrow$Restart) and then **run all cells** (in the menubar, select Cell$\\rightarrow$Run All).\n",
        "\n",
        "Make sure you fill in any place that says `YOUR CODE HERE` or \"YOUR ANSWER HERE\" and remove every line containing the expression: \"raise ...\" (if you leave such a line your code will not run).\n",
        "\n",
        "## IMPORTANT: make sure to rerun all the code from the beginning to obtain the results for the final version of your notebook, since this is the way we will do it before evaluating your notebook!!!\n",
        "\n",
        "Fill in your name and id number (numero matricola) below:"
      ]
    },
    {
      "cell_type": "code",
      "metadata": {
        "id": "S3a29niekIO3"
      },
      "source": [
        "NAME = \"Giulio Savian\"\n",
        "ID_number = int(\"1167313\")\n",
        "\n",
        "import IPython\n",
        "assert IPython.version_info[0] >= 3, \"Your version of IPython is too old, please update it.\""
      ],
      "execution_count": 1,
      "outputs": []
    },
    {
      "cell_type": "markdown",
      "metadata": {
        "id": "7zsqkvY1kIO4"
      },
      "source": [
        "---"
      ]
    },
    {
      "cell_type": "markdown",
      "metadata": {
        "deletable": false,
        "editable": false,
        "nbgrader": {
          "cell_type": "markdown",
          "checksum": "3ff9eaae2f9b2bbc8db537ec711deafa",
          "grade": false,
          "grade_id": "cell-076a38b69f1df826",
          "locked": true,
          "schema_version": 3,
          "solution": false,
          "task": false
        },
        "id": "AlKn1KzpkIO5"
      },
      "source": [
        "## HOMEWORK #3\n",
        "\n",
        "### Non linear models for classification \n",
        "\n",
        "In this notebook we are going to explore the use of SVM and Neural Networks for image classification. We are going to use the famous MNIST dataset, that is a dataset of handwritten digits. We get the data from mldata.org, that is a public repository for machine learning data."
      ]
    },
    {
      "cell_type": "code",
      "metadata": {
        "deletable": false,
        "editable": false,
        "nbgrader": {
          "cell_type": "code",
          "checksum": "9bbaec1fea909334962e7a4c356aeba9",
          "grade": false,
          "grade_id": "cell-4ba73b30a541fdaa",
          "locked": true,
          "schema_version": 3,
          "solution": false,
          "task": false
        },
        "id": "kAV8onyVkIO6"
      },
      "source": [
        "# Load the required packages\n",
        "import numpy as np\n",
        "import scipy as sp\n",
        "import matplotlib.pyplot as plt\n",
        "import pandas as pd\n",
        "import seaborn as sn\n",
        "\n",
        "import sklearn\n",
        "from sklearn.datasets import fetch_openml\n",
        "from sklearn.neural_network import MLPClassifier\n",
        "\n",
        "np.random.seed(ID_number)"
      ],
      "execution_count": 2,
      "outputs": []
    },
    {
      "cell_type": "code",
      "metadata": {
        "deletable": false,
        "editable": false,
        "nbgrader": {
          "cell_type": "code",
          "checksum": "c928a77b2e11751282928cefdf99d29c",
          "grade": false,
          "grade_id": "cell-87d195f3039741b3",
          "locked": true,
          "schema_version": 3,
          "solution": false,
          "task": false
        },
        "colab": {
          "base_uri": "https://localhost:8080/"
        },
        "id": "B7kE6ts9kIO7",
        "outputId": "e9a5e695-1d89-4754-b8b2-06671ea2bc35"
      },
      "source": [
        "#load the MNIST dataset and let's normalize the features so that each value is in [0,1]\n",
        "## Load data from https://www.openml.org/d/554\n",
        "X, Y = fetch_openml('mnist_784', version=1, return_X_y=True)\n",
        "\n",
        "print(f'Each image is represented as vector of shape {X[0].shape}')\n",
        "print(f'The image is represented in gray scale levels {X[0]}')\n",
        "print(f'Here it is a label: {Y[0]}')\n",
        "\n",
        "# Rescale the data\n",
        "X = X / 255."
      ],
      "execution_count": 3,
      "outputs": [
        {
          "output_type": "stream",
          "text": [
            "Each image is represented as vector of shape (784,)\n",
            "The image is represented in gray scale levels [  0.   0.   0.   0.   0.   0.   0.   0.   0.   0.   0.   0.   0.   0.\n",
            "   0.   0.   0.   0.   0.   0.   0.   0.   0.   0.   0.   0.   0.   0.\n",
            "   0.   0.   0.   0.   0.   0.   0.   0.   0.   0.   0.   0.   0.   0.\n",
            "   0.   0.   0.   0.   0.   0.   0.   0.   0.   0.   0.   0.   0.   0.\n",
            "   0.   0.   0.   0.   0.   0.   0.   0.   0.   0.   0.   0.   0.   0.\n",
            "   0.   0.   0.   0.   0.   0.   0.   0.   0.   0.   0.   0.   0.   0.\n",
            "   0.   0.   0.   0.   0.   0.   0.   0.   0.   0.   0.   0.   0.   0.\n",
            "   0.   0.   0.   0.   0.   0.   0.   0.   0.   0.   0.   0.   0.   0.\n",
            "   0.   0.   0.   0.   0.   0.   0.   0.   0.   0.   0.   0.   0.   0.\n",
            "   0.   0.   0.   0.   0.   0.   0.   0.   0.   0.   0.   0.   0.   0.\n",
            "   0.   0.   0.   0.   0.   0.   0.   0.   0.   0.   0.   0.   3.  18.\n",
            "  18.  18. 126. 136. 175.  26. 166. 255. 247. 127.   0.   0.   0.   0.\n",
            "   0.   0.   0.   0.   0.   0.   0.   0.  30.  36.  94. 154. 170. 253.\n",
            " 253. 253. 253. 253. 225. 172. 253. 242. 195.  64.   0.   0.   0.   0.\n",
            "   0.   0.   0.   0.   0.   0.   0.  49. 238. 253. 253. 253. 253. 253.\n",
            " 253. 253. 253. 251.  93.  82.  82.  56.  39.   0.   0.   0.   0.   0.\n",
            "   0.   0.   0.   0.   0.   0.   0.  18. 219. 253. 253. 253. 253. 253.\n",
            " 198. 182. 247. 241.   0.   0.   0.   0.   0.   0.   0.   0.   0.   0.\n",
            "   0.   0.   0.   0.   0.   0.   0.   0.  80. 156. 107. 253. 253. 205.\n",
            "  11.   0.  43. 154.   0.   0.   0.   0.   0.   0.   0.   0.   0.   0.\n",
            "   0.   0.   0.   0.   0.   0.   0.   0.   0.  14.   1. 154. 253.  90.\n",
            "   0.   0.   0.   0.   0.   0.   0.   0.   0.   0.   0.   0.   0.   0.\n",
            "   0.   0.   0.   0.   0.   0.   0.   0.   0.   0.   0. 139. 253. 190.\n",
            "   2.   0.   0.   0.   0.   0.   0.   0.   0.   0.   0.   0.   0.   0.\n",
            "   0.   0.   0.   0.   0.   0.   0.   0.   0.   0.   0.  11. 190. 253.\n",
            "  70.   0.   0.   0.   0.   0.   0.   0.   0.   0.   0.   0.   0.   0.\n",
            "   0.   0.   0.   0.   0.   0.   0.   0.   0.   0.   0.   0.  35. 241.\n",
            " 225. 160. 108.   1.   0.   0.   0.   0.   0.   0.   0.   0.   0.   0.\n",
            "   0.   0.   0.   0.   0.   0.   0.   0.   0.   0.   0.   0.   0.  81.\n",
            " 240. 253. 253. 119.  25.   0.   0.   0.   0.   0.   0.   0.   0.   0.\n",
            "   0.   0.   0.   0.   0.   0.   0.   0.   0.   0.   0.   0.   0.   0.\n",
            "  45. 186. 253. 253. 150.  27.   0.   0.   0.   0.   0.   0.   0.   0.\n",
            "   0.   0.   0.   0.   0.   0.   0.   0.   0.   0.   0.   0.   0.   0.\n",
            "   0.  16.  93. 252. 253. 187.   0.   0.   0.   0.   0.   0.   0.   0.\n",
            "   0.   0.   0.   0.   0.   0.   0.   0.   0.   0.   0.   0.   0.   0.\n",
            "   0.   0.   0. 249. 253. 249.  64.   0.   0.   0.   0.   0.   0.   0.\n",
            "   0.   0.   0.   0.   0.   0.   0.   0.   0.   0.   0.   0.   0.   0.\n",
            "  46. 130. 183. 253. 253. 207.   2.   0.   0.   0.   0.   0.   0.   0.\n",
            "   0.   0.   0.   0.   0.   0.   0.   0.   0.   0.   0.   0.  39. 148.\n",
            " 229. 253. 253. 253. 250. 182.   0.   0.   0.   0.   0.   0.   0.   0.\n",
            "   0.   0.   0.   0.   0.   0.   0.   0.   0.   0.  24. 114. 221. 253.\n",
            " 253. 253. 253. 201.  78.   0.   0.   0.   0.   0.   0.   0.   0.   0.\n",
            "   0.   0.   0.   0.   0.   0.   0.   0.  23.  66. 213. 253. 253. 253.\n",
            " 253. 198.  81.   2.   0.   0.   0.   0.   0.   0.   0.   0.   0.   0.\n",
            "   0.   0.   0.   0.   0.   0.  18. 171. 219. 253. 253. 253. 253. 195.\n",
            "  80.   9.   0.   0.   0.   0.   0.   0.   0.   0.   0.   0.   0.   0.\n",
            "   0.   0.   0.   0.  55. 172. 226. 253. 253. 253. 253. 244. 133.  11.\n",
            "   0.   0.   0.   0.   0.   0.   0.   0.   0.   0.   0.   0.   0.   0.\n",
            "   0.   0.   0.   0. 136. 253. 253. 253. 212. 135. 132.  16.   0.   0.\n",
            "   0.   0.   0.   0.   0.   0.   0.   0.   0.   0.   0.   0.   0.   0.\n",
            "   0.   0.   0.   0.   0.   0.   0.   0.   0.   0.   0.   0.   0.   0.\n",
            "   0.   0.   0.   0.   0.   0.   0.   0.   0.   0.   0.   0.   0.   0.\n",
            "   0.   0.   0.   0.   0.   0.   0.   0.   0.   0.   0.   0.   0.   0.\n",
            "   0.   0.   0.   0.   0.   0.   0.   0.   0.   0.   0.   0.   0.   0.\n",
            "   0.   0.   0.   0.   0.   0.   0.   0.   0.   0.   0.   0.   0.   0.\n",
            "   0.   0.   0.   0.   0.   0.   0.   0.   0.   0.   0.   0.   0.   0.]\n",
            "Here it is a label: 5\n"
          ],
          "name": "stdout"
        }
      ]
    },
    {
      "cell_type": "markdown",
      "metadata": {
        "deletable": false,
        "editable": false,
        "nbgrader": {
          "cell_type": "markdown",
          "checksum": "141a09fab5765f725c599c3565c9adaf",
          "grade": false,
          "grade_id": "cell-81c18ee97323d3e5",
          "locked": true,
          "schema_version": 3,
          "solution": false,
          "task": false
        },
        "id": "oEHgJYrakIO7"
      },
      "source": [
        "In a classification problem it is desirable to split the dataset into train and test sets in a way that preserves the same proportions of examples in each class as observed in the original dataset.\n",
        "We can achieve this by setting the “stratify” argument of the function \"train_test_split\" to the Y component of our dataset.\n",
        "\n",
        "We are going to use 500 samples in the train dataset, the remaining ones are used for testing."
      ]
    },
    {
      "cell_type": "code",
      "metadata": {
        "deletable": false,
        "editable": false,
        "nbgrader": {
          "cell_type": "code",
          "checksum": "7c2343a80405bf126ca8caee4c8948ea",
          "grade": false,
          "grade_id": "cell-e27bcaacee1db729",
          "locked": true,
          "schema_version": 3,
          "solution": false,
          "task": false
        },
        "colab": {
          "base_uri": "https://localhost:8080/"
        },
        "id": "YSKbEJ2hkIO8",
        "outputId": "abd4778d-2610-4fd5-bfad-a63825d174ff"
      },
      "source": [
        "from sklearn.model_selection import train_test_split\n",
        "\n",
        "m_t = 500\n",
        "x_train, x_test, y_train, y_test = train_test_split(X, Y, train_size=m_t/len(Y), random_state=ID_number, stratify=Y)\n",
        "\n",
        "print(f'Lenght train dataset: {len(y_train)}, Labels and frequencies: \\n {list(zip(*np.unique(y_train, return_counts=True)))}')\n",
        "print(f'Lenght test dataset: {len(y_test)}, Labels and frequencies: \\n {list(zip(*np.unique(y_test, return_counts=True)))}')"
      ],
      "execution_count": 4,
      "outputs": [
        {
          "output_type": "stream",
          "text": [
            "Lenght train dataset: 500, Labels and frequencies: \n",
            " [('0', 49), ('1', 56), ('2', 50), ('3', 51), ('4', 49), ('5', 45), ('6', 49), ('7', 52), ('8', 49), ('9', 50)]\n",
            "Lenght test dataset: 69500, Labels and frequencies: \n",
            " [('0', 6854), ('1', 7821), ('2', 6940), ('3', 7090), ('4', 6775), ('5', 6268), ('6', 6827), ('7', 7241), ('8', 6776), ('9', 6908)]\n"
          ],
          "name": "stdout"
        }
      ]
    },
    {
      "cell_type": "code",
      "metadata": {
        "deletable": false,
        "editable": false,
        "nbgrader": {
          "cell_type": "code",
          "checksum": "43de9c7aa4a5c89c64f8329c785e1e25",
          "grade": false,
          "grade_id": "cell-c3f9a9f2f617be66",
          "locked": true,
          "schema_version": 3,
          "solution": false,
          "task": false
        },
        "id": "dtnMpaJQkIO9"
      },
      "source": [
        "# Function to plot a digit and print the corresponding label\n",
        "def plot_digit(X_matrix, labels, index):\n",
        "    print(\"INPUT:\")\n",
        "    plt.imshow(\n",
        "        X_matrix[index].reshape(28,28),\n",
        "        cmap          = plt.cm.gray_r,\n",
        "        interpolation = \"nearest\"\n",
        "    )\n",
        "    plt.show()\n",
        "    print(f\"LABEL: {labels[index]}\")\n",
        "    return"
      ],
      "execution_count": 5,
      "outputs": []
    },
    {
      "cell_type": "code",
      "metadata": {
        "deletable": false,
        "editable": false,
        "nbgrader": {
          "cell_type": "code",
          "checksum": "f931c5ab0576c91a41e6ab50bd31881d",
          "grade": false,
          "grade_id": "cell-b2638b70d6ee2365",
          "locked": true,
          "schema_version": 3,
          "solution": false,
          "task": false
        },
        "colab": {
          "base_uri": "https://localhost:8080/",
          "height": 577
        },
        "id": "T5x3Sq1rkIO-",
        "outputId": "23f27092-c6d6-4934-f035-5bad752ac204"
      },
      "source": [
        "#let's try the plotting function\n",
        "plot_digit(x_train, y_train, 100)\n",
        "plot_digit(x_test, y_test, 40000)"
      ],
      "execution_count": 6,
      "outputs": [
        {
          "output_type": "stream",
          "text": [
            "INPUT:\n"
          ],
          "name": "stdout"
        },
        {
          "output_type": "display_data",
          "data": {
            "image/png": "[encoded data removed]",
            "text/plain": [
              "<Figure size 432x288 with 1 Axes>"
            ]
          },
          "metadata": {
            "tags": [],
            "needs_background": "light"
          }
        },
        {
          "output_type": "stream",
          "text": [
            "LABEL: 9\n",
            "INPUT:\n"
          ],
          "name": "stdout"
        },
        {
          "output_type": "display_data",
          "data": {
            "image/png": "[encoded data removed]",
            "text/plain": [
              "<Figure size 432x288 with 1 Axes>"
            ]
          },
          "metadata": {
            "tags": [],
            "needs_background": "light"
          }
        },
        {
          "output_type": "stream",
          "text": [
            "LABEL: 0\n"
          ],
          "name": "stdout"
        }
      ]
    },
    {
      "cell_type": "markdown",
      "metadata": {
        "deletable": false,
        "editable": false,
        "nbgrader": {
          "cell_type": "markdown",
          "checksum": "1216eecf5a2a2a9116c547a4bc44e292",
          "grade": false,
          "grade_id": "cell-8173b3832936e560",
          "locked": true,
          "schema_version": 3,
          "solution": false,
          "task": false
        },
        "id": "cjmqU5MGkIO-"
      },
      "source": [
        "## TO DO 1\n",
        "SVM with cross validation to pick the best model. Use SVC from sklearn.svm and GridSearchCV from sklearn.model_selection (5-fold cross-validation).\n",
        "\n",
        "Print the best parameters found as well as the best score obtained by the 'optimal' model.\n",
        "Choose the grid, depending on the kernel you are using different hyper-parameters are needed (C, gamma, ...). \n",
        "You do not need to use more than 5 values for each hyper-parameter (otherwise the cell could be very slow). "
      ]
    },
    {
      "cell_type": "code",
      "metadata": {
        "deletable": false,
        "nbgrader": {
          "cell_type": "code",
          "checksum": "ceb75594dc13c0f7d19fdea2d17a2319",
          "grade": false,
          "grade_id": "cell-a5339e3c792f1d3e",
          "locked": false,
          "schema_version": 3,
          "solution": true,
          "task": false
        },
        "colab": {
          "base_uri": "https://localhost:8080/"
        },
        "id": "3xRP9maGkIO_",
        "outputId": "e07b0bd8-a948-43bc-c7be-bbecca40ddb6"
      },
      "source": [
        "#import SVC\n",
        "from sklearn.svm import SVC\n",
        "#import for Cross-Validation\n",
        "from sklearn.model_selection import GridSearchCV\n",
        "\n",
        "\n",
        "def compute_best_SVM_with_CV(kernel_type : str, parameters : dict, x_train : np.ndarray, y_train : np.ndarray) -> tuple:\n",
        "    '''\n",
        "    Use Cross validation to find the best SVM on the given parameters. Return the best parameters set together with \n",
        "    the corresponding score. Return also the scores for all the other parameters given as input.\n",
        "    :param kernel_type: Type of kernel (i.e. linear, rbf, poly)\n",
        "    :param parameters: Dict containing kernel parameters (e.g. {'C': [1, 10, 100, 1000], 'gamma': [0.01, 0.001], ...})\n",
        "    :param x_train: Train dataset\n",
        "    :param y_train: Train labels\n",
        "    \n",
        "    :returns: (best_param, best_score, all_scores)\n",
        "        WHERE:\n",
        "        best_param: best parameter set (this is a dictionary)\n",
        "        best_score: best score obtained for the given parameters (float)\n",
        "        all_scores: all scores computed for each parameter (np.ndarray)\n",
        "    '''\n",
        "    SVM_model = SVC(kernel=kernel_type)\n",
        "    # Use GridSearchCV to find the best parameter set.\n",
        "    # YOUR CODE HERE\n",
        "    clf = GridSearchCV(estimator = SVM_model, param_grid = parameters)\n",
        "    clf.fit(x_train, y_train)\n",
        "\n",
        "    print('#####################################')\n",
        "    print(f'RESULTS for {kernel_type} KERNEL\\n')\n",
        "    # Store the best parameters set and print them\n",
        "    print(\"Best parameters set found:\")\n",
        "    best_param = None\n",
        "    # YOUR CODE HERE\n",
        "    best_param = clf.best_params_\n",
        "    print(best_param)\n",
        "    \n",
        "    # Store and print the score of the best parameters set\n",
        "    print(\"\\nScore with best parameters:\")\n",
        "    best_score = None\n",
        "    # YOUR CODE HERE\n",
        "    best_score = clf.best_score_\n",
        "    print(best_score)\n",
        "    \n",
        "    # Store and print all the scores for the given parameters (average of the validation scores)\n",
        "    print(\"\\nAll scores on the grid:\")\n",
        "    all_scores = None\n",
        "    # YOUR CODE HERE\n",
        "    all_scores = clf.cv_results_['mean_test_score']\n",
        "    print(all_scores)\n",
        "    \n",
        "    return best_param, best_score, all_scores\n",
        "\n",
        "# Choose the grid for parameters of the linear SVM kernel\n",
        "linear_parameters = None\n",
        "# YOUR CODE HERE\n",
        "linear_parameters = {'C': np.logspace(-3,1,5)}\n",
        "best_param_lin, best_score_lin, all_scores_lin = compute_best_SVM_with_CV('linear', linear_parameters, x_train, y_train)\n",
        "# Choose the grid for parameters of the rbf SVM kernel\n",
        "rbf_parameters = None\n",
        "# YOUR CODE HERE\n",
        "rbf_parameters = {'C': np.logspace(-1,2,4) , 'gamma': np.logspace(-3,1,5)}\n",
        "best_param_rbf, best_score_rbf, all_scores_rbf = compute_best_SVM_with_CV('rbf', rbf_parameters, x_train, y_train)\n",
        "# Choose the grid for parameters of the poly SVM kernel (do not forget to choose the degree)\n",
        "poly_parameters = None\n",
        "# YOUR CODE HERE\n",
        "poly_parameters = {'C':  np.logspace(-2,2,5), 'gamma':  np.logspace(-2,2,5),'degree':[1,2],'coef0': np.logspace(-1,3,5)}\n",
        "best_param_poly, best_score_poly, all_scores_poly = compute_best_SVM_with_CV('poly', poly_parameters, x_train, y_train)"
      ],
      "execution_count": 7,
      "outputs": [
        {
          "output_type": "stream",
          "text": [
            "#####################################\n",
            "RESULTS for linear KERNEL\n",
            "\n",
            "Best parameters set found:\n",
            "{'C': 0.1}\n",
            "\n",
            "Score with best parameters:\n",
            "0.8699999999999999\n",
            "\n",
            "All scores on the grid:\n",
            "[0.53  0.834 0.87  0.868 0.868]\n",
            "#####################################\n",
            "RESULTS for rbf KERNEL\n",
            "\n",
            "Best parameters set found:\n",
            "{'C': 10.0, 'gamma': 0.01}\n",
            "\n",
            "Score with best parameters:\n",
            "0.892\n",
            "\n",
            "All scores on the grid:\n",
            "[0.112 0.462 0.112 0.112 0.112 0.744 0.872 0.65  0.112 0.112 0.87  0.892\n",
            " 0.672 0.112 0.112 0.872 0.892 0.672 0.112 0.112]\n",
            "#####################################\n",
            "RESULTS for poly KERNEL\n",
            "\n",
            "Best parameters set found:\n",
            "{'C': 0.01, 'coef0': 100.0, 'degree': 2, 'gamma': 1.0}\n",
            "\n",
            "Score with best parameters:\n",
            "0.882\n",
            "\n",
            "All scores on the grid:\n",
            "[0.112 0.53  0.834 0.87  0.868 0.112 0.822 0.868 0.868 0.868 0.112 0.53\n",
            " 0.834 0.87  0.868 0.112 0.834 0.868 0.868 0.868 0.112 0.53  0.834 0.87\n",
            " 0.868 0.772 0.876 0.87  0.868 0.868 0.112 0.53  0.834 0.87  0.868 0.866\n",
            " 0.87  0.882 0.87  0.868 0.112 0.53  0.834 0.87  0.868 0.868 0.868 0.87\n",
            " 0.882 0.87  0.53  0.834 0.87  0.868 0.868 0.538 0.864 0.868 0.868 0.868\n",
            " 0.53  0.834 0.87  0.868 0.868 0.812 0.87  0.868 0.868 0.868 0.53  0.834\n",
            " 0.87  0.868 0.868 0.868 0.882 0.87  0.868 0.868 0.53  0.834 0.87  0.868\n",
            " 0.868 0.868 0.87  0.882 0.87  0.868 0.53  0.834 0.87  0.868 0.868 0.868\n",
            " 0.868 0.87  0.882 0.87  0.834 0.87  0.868 0.868 0.868 0.834 0.868 0.868\n",
            " 0.868 0.868 0.834 0.87  0.868 0.868 0.868 0.876 0.87  0.868 0.868 0.868\n",
            " 0.834 0.87  0.868 0.868 0.868 0.87  0.882 0.87  0.868 0.868 0.834 0.87\n",
            " 0.868 0.868 0.868 0.868 0.87  0.882 0.87  0.868 0.834 0.87  0.868 0.868\n",
            " 0.868 0.868 0.868 0.87  0.882 0.87  0.87  0.868 0.868 0.868 0.868 0.87\n",
            " 0.868 0.868 0.868 0.868 0.87  0.868 0.868 0.868 0.868 0.882 0.87  0.868\n",
            " 0.868 0.868 0.87  0.868 0.868 0.868 0.868 0.87  0.882 0.87  0.868 0.868\n",
            " 0.87  0.868 0.868 0.868 0.868 0.868 0.87  0.882 0.87  0.868 0.87  0.868\n",
            " 0.868 0.868 0.868 0.868 0.868 0.87  0.882 0.87  0.868 0.868 0.868 0.868\n",
            " 0.868 0.87  0.868 0.868 0.868 0.868 0.868 0.868 0.868 0.868 0.868 0.882\n",
            " 0.87  0.868 0.868 0.868 0.868 0.868 0.868 0.868 0.868 0.87  0.882 0.87\n",
            " 0.868 0.868 0.868 0.868 0.868 0.868 0.868 0.868 0.87  0.882 0.87  0.868\n",
            " 0.868 0.868 0.868 0.868 0.868 0.868 0.868 0.87  0.882 0.87 ]\n"
          ],
          "name": "stdout"
        }
      ]
    },
    {
      "cell_type": "code",
      "metadata": {
        "deletable": false,
        "editable": false,
        "nbgrader": {
          "cell_type": "code",
          "checksum": "207aeacb91c04b8b825a669594ddae01",
          "grade": true,
          "grade_id": "cell-ebaae7b6afc0d0cf",
          "locked": true,
          "points": 5,
          "schema_version": 3,
          "solution": false,
          "task": false
        },
        "id": "6C4ElNo1kIPA"
      },
      "source": [
        "assert type(best_param_rbf) == dict\n",
        "assert type(best_score_rbf) == np.float64\n",
        "assert np.prod(np.array([len(params) for params in rbf_parameters.values()])) == len(all_scores_rbf)\n"
      ],
      "execution_count": 8,
      "outputs": []
    },
    {
      "cell_type": "code",
      "metadata": {
        "deletable": false,
        "nbgrader": {
          "cell_type": "code",
          "checksum": "b144521663d002b96ffe699cda280b19",
          "grade": false,
          "grade_id": "cell-afe8e1dfdc2607ec",
          "locked": false,
          "schema_version": 3,
          "solution": true,
          "task": false
        },
        "id": "wZEJ6P-ykIPB",
        "colab": {
          "base_uri": "https://localhost:8080/"
        },
        "outputId": "502728a9-4a5f-46e5-c6be-96c53bd5c635"
      },
      "source": [
        "# TODO 2: \n",
        "# Get training and test error for the best SVM model obtained from CV (you need to choose across different kernels \n",
        "# too). You just need to look at the best model for each kernel and choose the best one (you can do this by hand).\n",
        "\n",
        "best_kernel_type, best_parameters = None, None\n",
        "# YOUR CODE HERE\n",
        "best_kernel_type, best_parameters = 'rbf', best_param_rbf\n",
        "best_SVM = SVC(kernel=best_kernel_type, **best_parameters)\n",
        "best_SVM.fit(x_train, y_train)\n",
        "\n",
        "# Compute training and test error for this model (use the usual sklearn built-in functions)\n",
        "training_error, test_error = None, None\n",
        "# YOUR CODE HERE\n",
        "training_error, test_error = 1. - best_SVM.score(x_train,y_train) , 1. - best_SVM.score(x_test,y_test)\n",
        "\n",
        "print (f\"Best SVM training error: {training_error}\")\n",
        "print (f\"Best SVM test error: {test_error}\")"
      ],
      "execution_count": 9,
      "outputs": [
        {
          "output_type": "stream",
          "text": [
            "Best SVM training error: 0.0\n",
            "Best SVM test error: 0.10738129496402882\n"
          ],
          "name": "stdout"
        }
      ]
    },
    {
      "cell_type": "code",
      "metadata": {
        "deletable": false,
        "editable": false,
        "nbgrader": {
          "cell_type": "code",
          "checksum": "57d9c76ee5722becfaa9cf0bbc261d16",
          "grade": true,
          "grade_id": "cell-4053a73d188e1e77",
          "locked": true,
          "points": 3,
          "schema_version": 3,
          "solution": false,
          "task": false
        },
        "id": "LTphSEawkIPB"
      },
      "source": [
        "assert type(training_error) == np.float64\n",
        "assert type(test_error) == np.float64\n"
      ],
      "execution_count": 10,
      "outputs": []
    },
    {
      "cell_type": "markdown",
      "metadata": {
        "deletable": false,
        "editable": false,
        "nbgrader": {
          "cell_type": "markdown",
          "checksum": "cbd895081443eb0dc1185dafe871580d",
          "grade": false,
          "grade_id": "cell-725922e6187a3cca",
          "locked": true,
          "schema_version": 3,
          "solution": false,
          "task": false
        },
        "id": "Zf77vkJHkIPC"
      },
      "source": [
        "### TO DO 3\n",
        "Now we use feed-forward neural networks for classification. You can use the Multi-Layer-Perceptron (the multi-layer structure we have seen in class, see http://scikit-learn.org/stable/modules/neural_networks_supervised.html).\n",
        "\n",
        "Note that we fix the starting random state so to make the runs reproducible. Use max_iter=1000, alpha=1e-4, solver='sgd', tol=1e-4, learning_rate_init=.1. Pick few architectures and use the default activation function (ReLU)."
      ]
    },
    {
      "cell_type": "code",
      "metadata": {
        "deletable": false,
        "nbgrader": {
          "cell_type": "code",
          "checksum": "34e9bba334f0dfc5d0284827b6f4bc1d",
          "grade": false,
          "grade_id": "cell-5a1b0b4bf3034190",
          "locked": false,
          "schema_version": 3,
          "solution": true,
          "task": false
        },
        "id": "p5Wa9V-pkIPD",
        "colab": {
          "base_uri": "https://localhost:8080/"
        },
        "outputId": "b78fee19-b5a9-4dfd-8dbd-e9f406bfc40a"
      },
      "source": [
        "# test different architectures: \n",
        "# - 1 hidden layer with 10 nodes, \n",
        "# - 1 hidden layer with 50 nodes, \n",
        "# - 2 hidden layer with 10 nodes each, \n",
        "# - 2 hidden layer with 50 nodes each\n",
        "# feel free to change this and test more/different structures\n",
        "\n",
        "parameters = {'hidden_layer_sizes': [(10,), (50,), (10,10,), (50,50,)]}\n",
        "\n",
        "mlp = MLPClassifier(max_iter=1000, alpha=1e-4, solver='sgd', tol=1e-4, random_state=ID_number, learning_rate_init=.1)\n",
        "\n",
        "# Use GridSearchCV to find the best mlp using 5 fold CV.\n",
        "mlp_CV = None\n",
        "# YOUR CODE HERE\n",
        "mlp_CV = GridSearchCV(mlp , parameters)\n",
        "mlp_CV.fit(x_train, y_train)\n",
        "\n",
        "print('#####################################')\n",
        "print ('RESULTS FOR NN\\n')\n",
        "# Store the best parameters set and print them\n",
        "print(\"Best parameters set found:\")\n",
        "mlp_best_param = None\n",
        "# YOUR CODE HERE\n",
        "mlp_best_param =  mlp_CV.best_params_\n",
        "print(mlp_best_param)\n",
        "\n",
        "# Store and print the score of the best parameters set\n",
        "print(\"\\nScore with best parameters:\")\n",
        "mlp_best_score = None\n",
        "# YOUR CODE HERE\n",
        "mlp_best_score = mlp_CV.best_score_\n",
        "print(mlp_best_score)\n",
        "\n",
        "# Store and print all the scores for the given parameters (average of the validation scores)\n",
        "print(\"\\nAll scores on the grid:\")\n",
        "mlp_all_scores = None\n",
        "# YOUR CODE HERE\n",
        "mlp_all_scores = mlp_CV.cv_results_['mean_test_score']\n",
        "print(mlp_all_scores)"
      ],
      "execution_count": 11,
      "outputs": [
        {
          "output_type": "stream",
          "text": [
            "#####################################\n",
            "RESULTS FOR NN\n",
            "\n",
            "Best parameters set found:\n",
            "{'hidden_layer_sizes': (50, 50)}\n",
            "\n",
            "Score with best parameters:\n",
            "0.852\n",
            "\n",
            "All scores on the grid:\n",
            "[0.846 0.836 0.808 0.852]\n"
          ],
          "name": "stdout"
        }
      ]
    },
    {
      "cell_type": "code",
      "metadata": {
        "deletable": false,
        "editable": false,
        "nbgrader": {
          "cell_type": "code",
          "checksum": "a90be1e3a1de39f8aa1e99997dbd3190",
          "grade": true,
          "grade_id": "cell-8a5ceaf16e49c200",
          "locked": true,
          "points": 2,
          "schema_version": 3,
          "solution": false,
          "task": false
        },
        "id": "QZYixejwkIPE"
      },
      "source": [
        "assert type(mlp_best_param) == dict\n",
        "assert type(mlp_best_score) == np.float64"
      ],
      "execution_count": 12,
      "outputs": []
    },
    {
      "cell_type": "markdown",
      "metadata": {
        "deletable": false,
        "editable": false,
        "nbgrader": {
          "cell_type": "markdown",
          "checksum": "d93e8a9c86d1954bbaa23e5192054e98",
          "grade": false,
          "grade_id": "cell-3b3105ef206a32a7",
          "locked": true,
          "schema_version": 3,
          "solution": false,
          "task": false
        },
        "id": "72IKmFEhkIPF"
      },
      "source": [
        "## TO DO 4\n",
        "\n",
        "\n",
        "Now get training and test error for a NN with best parameters from above. We use verbose=True\n",
        "in input so to see how loss changes in iterations (see how this changes if the number of iterations is changed)"
      ]
    },
    {
      "cell_type": "code",
      "metadata": {
        "deletable": false,
        "nbgrader": {
          "cell_type": "code",
          "checksum": "af6f6cc6a892d65aa39c4329015689cc",
          "grade": false,
          "grade_id": "cell-1bac118c0979b347",
          "locked": false,
          "schema_version": 3,
          "solution": true,
          "task": false
        },
        "id": "qfJowYsukIPF",
        "colab": {
          "base_uri": "https://localhost:8080/",
          "height": 1000
        },
        "outputId": "2686552c-f5cb-4588-b65f-4b5511413027"
      },
      "source": [
        "# Get training and test error for the best NN model from CV\n",
        "max_iter = 1000\n",
        "mlp = MLPClassifier(**mlp_best_param, max_iter=max_iter, alpha=1e-4, solver='sgd', tol=1e-4, random_state=ID_number,\n",
        "                    learning_rate_init=.1, verbose=True)\n",
        "\n",
        "# ADD CODE: FIT MODEL & COMPUTE TRAINING AND TEST ERRORS\n",
        "training_error, test_error = None, None\n",
        "# YOUR CODE HERE\n",
        "mlp.fit(x_train, y_train)\n",
        "training_error, test_error = 1 - mlp.score(x_train,y_train) , 1 - mlp.score(x_test,y_test)\n",
        "\n",
        "print ('\\nRESULTS FOR BEST NN\\n')\n",
        "\n",
        "print (\"Best NN training error: %f\" % training_error)\n",
        "print (\"Best NN test error: %f\" % test_error)\n",
        "\n",
        "plt.plot(mlp.loss_curve_, label='Training Loss')\n",
        "plt.title('Training loss MLP')\n",
        "plt.xlabel('Iter'), plt.ylabel('Loss')"
      ],
      "execution_count": 13,
      "outputs": [
        {
          "output_type": "stream",
          "text": [
            "Iteration 1, loss = 2.29874635\n",
            "Iteration 2, loss = 2.07448799\n",
            "Iteration 3, loss = 1.77205786\n",
            "Iteration 4, loss = 1.29704634\n",
            "Iteration 5, loss = 0.91941197\n",
            "Iteration 6, loss = 1.06004983\n",
            "Iteration 7, loss = 0.54940014\n",
            "Iteration 8, loss = 0.35246823\n",
            "Iteration 9, loss = 0.25692333\n",
            "Iteration 10, loss = 0.20067352\n",
            "Iteration 11, loss = 0.15165356\n",
            "Iteration 12, loss = 0.12218975\n",
            "Iteration 13, loss = 0.08393228\n",
            "Iteration 14, loss = 0.06409686\n",
            "Iteration 15, loss = 0.04657292\n",
            "Iteration 16, loss = 0.03451316\n",
            "Iteration 17, loss = 0.02586452\n",
            "Iteration 18, loss = 0.01912939\n",
            "Iteration 19, loss = 0.01544640\n",
            "Iteration 20, loss = 0.01202749\n",
            "Iteration 21, loss = 0.01018212\n",
            "Iteration 22, loss = 0.00888958\n",
            "Iteration 23, loss = 0.00763537\n",
            "Iteration 24, loss = 0.00687684\n",
            "Iteration 25, loss = 0.00609276\n",
            "Iteration 26, loss = 0.00555462\n",
            "Iteration 27, loss = 0.00514089\n",
            "Iteration 28, loss = 0.00474304\n",
            "Iteration 29, loss = 0.00444867\n",
            "Iteration 30, loss = 0.00418088\n",
            "Iteration 31, loss = 0.00395916\n",
            "Iteration 32, loss = 0.00377447\n",
            "Iteration 33, loss = 0.00355083\n",
            "Iteration 34, loss = 0.00339598\n",
            "Iteration 35, loss = 0.00325549\n",
            "Iteration 36, loss = 0.00314078\n",
            "Iteration 37, loss = 0.00301407\n",
            "Iteration 38, loss = 0.00290521\n",
            "Iteration 39, loss = 0.00279881\n",
            "Iteration 40, loss = 0.00269297\n",
            "Iteration 41, loss = 0.00263803\n",
            "Iteration 42, loss = 0.00252974\n",
            "Iteration 43, loss = 0.00245466\n",
            "Iteration 44, loss = 0.00237708\n",
            "Iteration 45, loss = 0.00230942\n",
            "Iteration 46, loss = 0.00225740\n",
            "Iteration 47, loss = 0.00218663\n",
            "Iteration 48, loss = 0.00213696\n",
            "Iteration 49, loss = 0.00207951\n",
            "Iteration 50, loss = 0.00202588\n",
            "Iteration 51, loss = 0.00197677\n",
            "Iteration 52, loss = 0.00193107\n",
            "Iteration 53, loss = 0.00188439\n",
            "Training loss did not improve more than tol=0.000100 for 10 consecutive epochs. Stopping.\n",
            "\n",
            "RESULTS FOR BEST NN\n",
            "\n",
            "Best NN training error: 0.000000\n",
            "Best NN test error: 0.144993\n"
          ],
          "name": "stdout"
        },
        {
          "output_type": "execute_result",
          "data": {
            "text/plain": [
              "(Text(0.5, 0, 'Iter'), Text(0, 0.5, 'Loss'))"
            ]
          },
          "metadata": {
            "tags": []
          },
          "execution_count": 13
        },
        {
          "output_type": "display_data",
          "data": {
            "image/png": "[encoded data removed]",
            "text/plain": [
              "<Figure size 432x288 with 1 Axes>"
            ]
          },
          "metadata": {
            "tags": [],
            "needs_background": "light"
          }
        }
      ]
    },
    {
      "cell_type": "code",
      "metadata": {
        "deletable": false,
        "editable": false,
        "nbgrader": {
          "cell_type": "code",
          "checksum": "dd264ef221a9a75f3e41dfb40deff87c",
          "grade": true,
          "grade_id": "cell-b01aa80f3128b91d",
          "locked": true,
          "points": 2,
          "schema_version": 3,
          "solution": false,
          "task": false
        },
        "id": "oK8c4liOkIPG"
      },
      "source": [
        "assert type(training_error) == np.float64\n",
        "assert type(test_error) == np.float64\n"
      ],
      "execution_count": 14,
      "outputs": []
    },
    {
      "cell_type": "markdown",
      "metadata": {
        "deletable": false,
        "editable": false,
        "nbgrader": {
          "cell_type": "markdown",
          "checksum": "e8c8979eadb59da78e051f520daab77a",
          "grade": false,
          "grade_id": "cell-53fd0895cc28155b",
          "locked": true,
          "schema_version": 3,
          "solution": false,
          "task": false
        },
        "id": "aiwvwpiikIPG"
      },
      "source": [
        "## TO DO  5\n",
        "Write a function to find and plot the first digit (in x_test) that is missclassified by NN and correctly classified by SVM.\n",
        "\n",
        "Write a function to compute the confusion matrix for the predictions of a model (on testset). If you are not familiar with what a confusion matrix is, have a look at this link: https://scikit-learn.org/stable/modules/generated/sklearn.metrics.confusion_matrix.html . You are not allowed to use sklearn to create the confusion matrix BUT you can compare your solution with the sklearn implementation to check you wrote it right (see assert checks). "
      ]
    },
    {
      "cell_type": "code",
      "metadata": {
        "deletable": false,
        "nbgrader": {
          "cell_type": "code",
          "checksum": "8b043680911cd7800593754fc46d76e6",
          "grade": false,
          "grade_id": "cell-6abbf994e14cb54d",
          "locked": false,
          "schema_version": 3,
          "solution": true,
          "task": false
        },
        "id": "URH0qve8kIPH",
        "colab": {
          "base_uri": "https://localhost:8080/",
          "height": 990
        },
        "outputId": "dc40de23-33dd-47b7-c65a-388bf3b8ac27"
      },
      "source": [
        "def find_and_print_first_mismatched_prediction(SVM_prediction : np.ndarray, NN_prediction : np.ndarray,\n",
        "                                               x_test : np.ndarray, y_test : np.ndarray) -> int:\n",
        "    '''\n",
        "    Function to find and print the first digit that is missclassified by NN and correctly classified by SVM.\n",
        "    :param SVM_prediction: SVM predicitons.\n",
        "    :param NN_prediction: MLP predicitons.\n",
        "    :param x_test: Test set inputs.\n",
        "    :param y_test: Test set labels.\n",
        "    \n",
        "    :returns:\n",
        "        i: returns the first index in which there is a mismatch between NN_prediction and true labels but no mismatch \n",
        "           between SVM_prediction and true labels. \n",
        "    '''\n",
        "    i = 0\n",
        "    found = False\n",
        "    while ((not found) and (i<len(y_test))):\n",
        "        # YOUR CODE HERE\n",
        "        if SVM_prediction[i] == y_test[i] and NN_prediction[i] != y_test[i]:\n",
        "          found = True\n",
        "        else:\n",
        "          i+=1\n",
        "    \n",
        "    plot_digit(x_test, y_test, i)\n",
        "    print(f\"Label by NN: {NN_prediction[i]}\\n\")\n",
        "    return i\n",
        "    \n",
        "    \n",
        "def confusion_matrix_by_hand(true_labels : np.ndarray, predicted_labels : np.ndarray) -> np.ndarray:\n",
        "    '''\n",
        "    Function used to compute the confusion matrix given true and predicted labels. \n",
        "    :param true_labels: True labels.\n",
        "    :param predicted_labels: Predicted labels (note this function does not require to know which model generated \n",
        "                             the predictions).\n",
        "    \n",
        "    :returns:\n",
        "        confusion_matrix: Confusion matrix for the given true and predicted labels.\n",
        "    '''\n",
        "    labels = np.unique(true_labels) \n",
        "    map_labels_to_index = {label:i for i, label in enumerate(labels)} \n",
        "    confusion_matrix = np.zeros((len(labels), len(labels)))\n",
        "    # YOUR CODE HERE\n",
        "    for i in range(len(labels)):\n",
        "      for j in range(len(labels)):\n",
        "        confusion_matrix[i][j]= np.sum((true_labels == labels[i]) & (predicted_labels == labels[j]))\n",
        "    return confusion_matrix.astype(int)\n",
        "\n",
        "\n",
        "# Let's test our functions\n",
        "SVM_prediction = best_SVM.predict(x_test)\n",
        "NN_prediction = mlp.predict(x_test)\n",
        "\n",
        "first_index = find_and_print_first_mismatched_prediction(SVM_prediction, NN_prediction, x_test, y_test)\n",
        "\n",
        "SVM_CM = confusion_matrix_by_hand(y_test, SVM_prediction)\n",
        "MLP_CM = confusion_matrix_by_hand(y_test, NN_prediction)\n",
        "\n",
        "print(f'SVM confusion matrix: {SVM_CM}')\n",
        "print(f'MLP confusion matrix: {MLP_CM}')\n",
        "\n",
        "# Convert confusion matrices to pandas data frames\n",
        "labels = np.unique(y_test)\n",
        "SVM_CM_df = pd.DataFrame(SVM_CM, index = labels, columns = labels)\n",
        "MLP_CM_df = pd.DataFrame(MLP_CM, index = labels, columns = labels)\n",
        "\n",
        "# Plot confusion matrices\n",
        "fig, axes = plt.subplots(1,2, figsize=(15,5))\n",
        "sn.heatmap(SVM_CM_df, annot=True, ax=axes[0], cmap='rocket_r', vmax=450)\n",
        "sn.heatmap(MLP_CM_df, annot=True, ax=axes[1], cmap='rocket_r', vmax=450)\n",
        "axes[0].set_title('SVM'), axes[1].set_title('MLP')"
      ],
      "execution_count": 15,
      "outputs": [
        {
          "output_type": "stream",
          "text": [
            "INPUT:\n"
          ],
          "name": "stdout"
        },
        {
          "output_type": "display_data",
          "data": {
            "image/png": "[encoded data removed]",
            "text/plain": [
              "<Figure size 432x288 with 1 Axes>"
            ]
          },
          "metadata": {
            "tags": [],
            "needs_background": "light"
          }
        },
        {
          "output_type": "stream",
          "text": [
            "LABEL: 8\n",
            "Label by NN: 6\n",
            "\n",
            "SVM confusion matrix: [[6515    0   11   15    4  104  118    6   70   11]\n",
            " [   0 7582   55   20    6    6   12   11  104   25]\n",
            " [  76   97 6096   96   92   30  136  108  169   40]\n",
            " [  47   41  247 6119    5  193   58  127  211   42]\n",
            " [  37   52   15    4 6062    6  101   25   38  435]\n",
            " [  85  150   63  406  118 4814  291   63  171  107]\n",
            " [ 120   47   41    5   52   73 6448   11   26    4]\n",
            " [  33   96  106   17   66    1    4 6579   28  311]\n",
            " [  66  117   92  210   59  192   96   42 5719  183]\n",
            " [  56   48   16   95  141   35    3  334   77 6103]]\n",
            "MLP confusion matrix: [[6299    0   48   25   10  110  137   46  144   35]\n",
            " [   1 7432   93   18    6    8    8   36  190   29]\n",
            " [ 151   44 5663   46  111   44  297  221  263  100]\n",
            " [ 115   22  300 5645   10  274   86  331  263   44]\n",
            " [  26   33   18   11 5774   20  178   15   64  636]\n",
            " [ 156   12  148  394  126 4453  277  126  463  113]\n",
            " [ 111   15  144    1   63  100 6312    3   35   43]\n",
            " [  42   67   66   37   64   12    4 6553   52  344]\n",
            " [  82  125  131  135   58  226  210  100 5522  187]\n",
            " [  44   43   15  125  190   44   18  533  126 5770]]\n"
          ],
          "name": "stdout"
        },
        {
          "output_type": "execute_result",
          "data": {
            "text/plain": [
              "(Text(0.5, 1.0, 'SVM'), Text(0.5, 1.0, 'MLP'))"
            ]
          },
          "metadata": {
            "tags": []
          },
          "execution_count": 15
        },
        {
          "output_type": "display_data",
          "data": {
            "image/png": "[encoded data removed]",
            "text/plain": [
              "<Figure size 1080x360 with 4 Axes>"
            ]
          },
          "metadata": {
            "tags": [],
            "needs_background": "light"
          }
        }
      ]
    },
    {
      "cell_type": "code",
      "metadata": {
        "deletable": false,
        "editable": false,
        "nbgrader": {
          "cell_type": "code",
          "checksum": "581fbd42241ce18d49f068d6e20787db",
          "grade": true,
          "grade_id": "cell-6f56cf18ba3807e3",
          "locked": true,
          "points": 3,
          "schema_version": 3,
          "solution": false,
          "task": false
        },
        "id": "gCcEEvt4kIPH"
      },
      "source": [
        "from sklearn.metrics import confusion_matrix\n",
        "\n",
        "skl_confusion_matrix_SVM = confusion_matrix(y_test, SVM_prediction)\n",
        "skl_confusion_matrix_NN = confusion_matrix(y_test, NN_prediction)\n",
        "\n",
        "assert np.sum(skl_confusion_matrix_SVM - SVM_CM) == 0\n",
        "assert np.sum(skl_confusion_matrix_NN - MLP_CM) == 0\n"
      ],
      "execution_count": 16,
      "outputs": []
    },
    {
      "cell_type": "markdown",
      "metadata": {
        "deletable": false,
        "editable": false,
        "nbgrader": {
          "cell_type": "markdown",
          "checksum": "eb4f3eb9ac1a3128b1d7935e6214a2b3",
          "grade": false,
          "grade_id": "cell-e43e0672f19b397b",
          "locked": true,
          "schema_version": 3,
          "solution": false,
          "task": false
        },
        "id": "grlsce-PkIPI"
      },
      "source": [
        "## TO DO 6: explain the results you got (max 5 lines)\n",
        "According to the cross-validation results, would you choose SVMs or NNs when 500 data points are available for training? Is this a good choice, given the results on the test set?\n",
        "\n",
        "Looking at the confusion matrices what to do you observe? On which classes each model is more likely to make mistakes? \n",
        "\n",
        "(Answer in the next cell, no need to add code)"
      ]
    },
    {
      "cell_type": "code",
      "metadata": {
        "deletable": false,
        "nbgrader": {
          "cell_type": "code",
          "checksum": "72b92516e9aa2d4f8d4e74112f53ce82",
          "grade": true,
          "grade_id": "cell-2169ccc88e433acd",
          "locked": false,
          "points": 5,
          "schema_version": 3,
          "solution": true,
          "task": false
        },
        "id": "uGWbaEXJkIPI",
        "colab": {
          "base_uri": "https://localhost:8080/",
          "height": 100
        },
        "outputId": "a4392470-89d3-4d62-e986-8690a74de4cf"
      },
      "source": [
        "# YOUR CODE HERE\n",
        "'''\n",
        "This two method differ in the amount of information required to train the algorithm: SVMs require a number of observations to train not high. This is because they reliably identify the decision boundary on \n",
        "the basis of the sole support vectors. Therefore, SVM are good whit this quantity of data and by looking to the test error I can verify it (NN : 0.14499 > SVM : 0.10738). Besides, for NNs whit a small \n",
        "training dataset, it’s easier to find a hypothesis to fit the training data exactly i.e. overfitting (limited by cross-validation). The confusion matrices confirm the choise of SVM but in the other hand \n",
        "some mistakes remain in both type of model, moreover, if i make the sum of the mistakes on each class I can observe that there is a category on which both models are more likely to make an error and it's\n",
        "the number five. I can specify by looking to the black region where this error occurs most and I can say that both SVM and MLP confuse the number 4 with the 9. The MLP also confuse the 9 with the 7.\n",
        "'''"
      ],
      "execution_count": 17,
      "outputs": [
        {
          "output_type": "execute_result",
          "data": {
            "application/vnd.google.colaboratory.intrinsic+json": {
              "type": "string"
            },
            "text/plain": [
              "\"\\nThis two method differ in the amount of information required to train the algorithm: SVMs require a number of observations to train not high. This is because they reliably identify the decision boundary on \\nthe basis of the sole support vectors. Therefore, SVM are good whit this quantity of data and by looking to the test error I can verify it (NN : 0.14499 > SVM : 0.10738). Besides, for NNs whit a small \\ntraining dataset, it’s easier to find a hypothesis to fit the training data exactly i.e. overfitting. The confusion matrices confirm the choise of SVM but in the other hand some mistakes remain in both \\ntype of model, moreover, if i make the sum of the mistakes on each class I can observe that there is a category on which both models are more likely to make an error and it's the number five. I can specify\\nby looking to the black region where this error occurs and I can say that both SVM and MLP confuse the number 4 with the 9. The MLP also confuse the 9 with the 7.\\n\""
            ]
          },
          "metadata": {
            "tags": []
          },
          "execution_count": 17
        }
      ]
    },
    {
      "cell_type": "markdown",
      "metadata": {
        "deletable": false,
        "editable": false,
        "nbgrader": {
          "cell_type": "markdown",
          "checksum": "fc82858c9becc9bb1368624e44ea7315",
          "grade": false,
          "grade_id": "cell-fee6298e8b853f42",
          "locked": true,
          "schema_version": 3,
          "solution": false,
          "task": false
        },
        "id": "0YgwY2ydkIPJ"
      },
      "source": [
        "## More Data\n",
        "\n",
        "Now let's do the same but using more data points for training SVM and NN. For SVM we are going to use the best hyperparameters set (kernel, C, gamma, ...) found using 500 data points. For NNs we use the same best architecture as before, but you can try more if you want! "
      ]
    },
    {
      "cell_type": "code",
      "metadata": {
        "deletable": false,
        "editable": false,
        "nbgrader": {
          "cell_type": "code",
          "checksum": "aeed066e86503e0951b48f996040232e",
          "grade": false,
          "grade_id": "cell-a848ab7cf8710da9",
          "locked": true,
          "schema_version": 3,
          "solution": false,
          "task": false
        },
        "id": "DYv_rYG_kIPJ",
        "colab": {
          "base_uri": "https://localhost:8080/"
        },
        "outputId": "e1b35dbe-5e3a-46f8-9b61-3f209c5ce8eb"
      },
      "source": [
        "#let restart the random generator with the given seed\n",
        "np.random.seed(ID_number)\n",
        "\n",
        "m_t = 60000\n",
        "x_train, x_test, y_train, y_test = train_test_split(X, Y, train_size=m_t/len(Y), random_state=ID_number, stratify=Y)\n",
        "\n",
        "print(f'Lenght train dataset: {len(y_train)}, Labels and frequencies: \\n {list(zip(*np.unique(y_train, return_counts=True)))}')\n",
        "print(f'Lenght test dataset: {len(y_test)}, Labels and frequencies: \\n {list(zip(*np.unique(y_test, return_counts=True)))}')"
      ],
      "execution_count": 18,
      "outputs": [
        {
          "output_type": "stream",
          "text": [
            "Lenght train dataset: 60000, Labels and frequencies: \n",
            " [('0', 5917), ('1', 6752), ('2', 5991), ('3', 6121), ('4', 5849), ('5', 5411), ('6', 5894), ('7', 6251), ('8', 5850), ('9', 5964)]\n",
            "Lenght test dataset: 10000, Labels and frequencies: \n",
            " [('0', 986), ('1', 1125), ('2', 999), ('3', 1020), ('4', 975), ('5', 902), ('6', 982), ('7', 1042), ('8', 975), ('9', 994)]\n"
          ],
          "name": "stdout"
        }
      ]
    },
    {
      "cell_type": "code",
      "metadata": {
        "deletable": false,
        "editable": false,
        "nbgrader": {
          "cell_type": "code",
          "checksum": "0dff5030dc7e19118fa510d054d6e4e8",
          "grade": false,
          "grade_id": "cell-c56ddffa388c295b",
          "locked": true,
          "schema_version": 3,
          "solution": false,
          "task": false
        },
        "id": "YtzlJ5CUkIPJ"
      },
      "source": [
        "# As we did with the first HW let's use a decorator to measure time \n",
        "from collections import defaultdict\n",
        "running_times = defaultdict(list)\n",
        "\n",
        "def measure_time(function):\n",
        "    def wrap(*args, **kw):\n",
        "        import time \n",
        "        t_start = time.time()\n",
        "        result = function(*args, **kw)\n",
        "        t_end = time.time()\n",
        "        running_times[type(args[0]).__name__].append(t_end - t_start)\n",
        "        return result\n",
        "    return wrap\n",
        "\n",
        "@measure_time\n",
        "def fit_classification_model(model, x_train, y_train):\n",
        "    model.fit(x_train, y_train)"
      ],
      "execution_count": 19,
      "outputs": []
    },
    {
      "cell_type": "code",
      "metadata": {
        "deletable": false,
        "editable": false,
        "nbgrader": {
          "cell_type": "code",
          "checksum": "4c3827485cd11b58f4f02ff9f53bb94b",
          "grade": false,
          "grade_id": "cell-3c7f2a22ea32e670",
          "locked": true,
          "schema_version": 3,
          "solution": false,
          "task": false
        },
        "id": "QCgrVc4xkIPK",
        "colab": {
          "base_uri": "https://localhost:8080/"
        },
        "outputId": "499f52d8-13bc-4e5a-f253-fe012b416f1c"
      },
      "source": [
        "n_data = [250, 500, 1000, 2000, 5000, 7500]\n",
        "svm_train_err, svm_test_err = [], [] \n",
        "mlp_train_err, mlp_test_err = [], [] \n",
        "for n in n_data: \n",
        "    print(f'Processing with {n} data ...')\n",
        "    # Initialize models according to the best we got using 500 data\n",
        "    svm = SVC(kernel=best_kernel_type, **best_parameters)\n",
        "    mlp = MLPClassifier(**mlp_best_param, max_iter=max_iter, alpha=1e-4, solver='sgd', tol=1e-4, \n",
        "                        random_state=ID_number, learning_rate_init=.1)\n",
        "    \n",
        "    # fit svc\n",
        "    fit_classification_model(svm, x_train[:n], y_train[:n])\n",
        "    # get svc train and test error\n",
        "    svm_train_err.append(1. - svm.score(x_train[:n], y_train[:n]))\n",
        "    svm_test_err.append(1. - svm.score(x_test, y_test))\n",
        "    \n",
        "    # fit mlp\n",
        "    fit_classification_model(mlp, x_train[:n], y_train[:n])\n",
        "    # get mlp train and test error\n",
        "    mlp_train_err.append(1. - mlp.score(x_train[:n], y_train[:n]))\n",
        "    mlp_test_err.append(1. - mlp.score(x_test, y_test))"
      ],
      "execution_count": 20,
      "outputs": [
        {
          "output_type": "stream",
          "text": [
            "Processing with 250 data ...\n",
            "Processing with 500 data ...\n",
            "Processing with 1000 data ...\n",
            "Processing with 2000 data ...\n",
            "Processing with 5000 data ...\n",
            "Processing with 7500 data ...\n"
          ],
          "name": "stdout"
        }
      ]
    },
    {
      "cell_type": "code",
      "metadata": {
        "deletable": false,
        "editable": false,
        "nbgrader": {
          "cell_type": "code",
          "checksum": "a27f916f360caca6f6f9ff4f86c7be0a",
          "grade": false,
          "grade_id": "cell-6a191a6232a2ccfb",
          "locked": true,
          "schema_version": 3,
          "solution": false,
          "task": false
        },
        "id": "go52H0PjkIPK",
        "colab": {
          "base_uri": "https://localhost:8080/",
          "height": 366
        },
        "outputId": "c550764c-bde0-4fbf-bd74-45973871e93c"
      },
      "source": [
        "fig, axes = plt.subplots(1,2, figsize=(15, 5))\n",
        "axes[0].plot(n_data, np.array(svm_train_err), label='SVM train err')\n",
        "axes[0].plot(n_data, np.array(svm_test_err), label='SVM test err')\n",
        "axes[0].plot(n_data, np.array(mlp_train_err), label='MLP train err')\n",
        "axes[0].plot(n_data, np.array(mlp_test_err), label='MLP test err')\n",
        "axes[0].set_xlabel('N data'), axes[0].set_ylabel('Loss')\n",
        "axes[0].legend(), axes[0].set_title('SVC vs MLP Errors')\n",
        "\n",
        "for model, times in running_times.items():\n",
        "    axes[1].plot(n_data, times, label=model)\n",
        "axes[1].set_xlabel('N data'), axes[1].set_ylabel('Time (s)')\n",
        "axes[1].legend(), axes[1].set_title('Training Time')"
      ],
      "execution_count": 21,
      "outputs": [
        {
          "output_type": "execute_result",
          "data": {
            "text/plain": [
              "(<matplotlib.legend.Legend at 0x7fafd9729ac8>, Text(0.5, 1.0, 'Training Time'))"
            ]
          },
          "metadata": {
            "tags": []
          },
          "execution_count": 21
        },
        {
          "output_type": "display_data",
          "data": {
            "image/png": "[encoded data removed]",
            "text/plain": [
              "<Figure size 1080x360 with 2 Axes>"
            ]
          },
          "metadata": {
            "tags": [],
            "needs_background": "light"
          }
        }
      ]
    },
    {
      "cell_type": "markdown",
      "metadata": {
        "deletable": false,
        "editable": false,
        "nbgrader": {
          "cell_type": "markdown",
          "checksum": "5a5f57f6ac6adcb71d2a4808cb65ba78",
          "grade": false,
          "grade_id": "cell-850f1836c9d53145",
          "locked": true,
          "schema_version": 3,
          "solution": false,
          "task": false
        },
        "id": "5jWCQTHukIPK"
      },
      "source": [
        "# TODO 7: Complete dataset\n",
        "Just for comparison, since it may not be possible to learn a SVM on too many data (due to time and memory complexity issues, see previous plots), let's use logistic regression (with standard parameters from scikit-learn but the number of iteration)."
      ]
    },
    {
      "cell_type": "code",
      "metadata": {
        "deletable": false,
        "nbgrader": {
          "cell_type": "code",
          "checksum": "859390c23f4ce4fc6a5fc409a9ea5077",
          "grade": false,
          "grade_id": "cell-916c97aa3e1b4655",
          "locked": false,
          "schema_version": 3,
          "solution": true,
          "task": false
        },
        "id": "kLEKPBjdkIPL",
        "colab": {
          "base_uri": "https://localhost:8080/"
        },
        "outputId": "5403faaa-5b1b-40ee-8764-c3bde896d571"
      },
      "source": [
        "from sklearn import linear_model\n",
        "\n",
        "# Fit and test a logistic regression model\n",
        "max_iter = 1000\n",
        "log_reg = None\n",
        "training_error, test_error = None, None\n",
        "# YOUR CODE HERE\n",
        "log_reg = linear_model.LogisticRegression(max_iter = max_iter)\n",
        "log_reg.fit(x_train , y_train)\n",
        "training_error_lr = 1 - log_reg.score(x_train , y_train)\n",
        "test_error_lr = 1 - log_reg.score(x_test , y_test)\n",
        "\n",
        "print (f\"Best logistic regression training error: {training_error_lr:.4f}\")\n",
        "print (f\"Best logistic regression test error: {test_error_lr:.4f}\")"
      ],
      "execution_count": 22,
      "outputs": [
        {
          "output_type": "stream",
          "text": [
            "Best logistic regression training error: 0.0610\n",
            "Best logistic regression test error: 0.0794\n"
          ],
          "name": "stdout"
        }
      ]
    },
    {
      "cell_type": "markdown",
      "metadata": {
        "deletable": false,
        "editable": false,
        "nbgrader": {
          "cell_type": "markdown",
          "checksum": "5e7a9430323ebf90a093328db30e68ec",
          "grade": false,
          "grade_id": "cell-005fbf84d90498d9",
          "locked": true,
          "schema_version": 3,
          "solution": false,
          "task": false
        },
        "id": "v_qrkG9ZkIPL"
      },
      "source": [
        "We now learn the NN. Below we use the same best architecture as before (found with 500 data), feel free to try larger ones (and to use again CV), or smaller ones if it takes too much time. (We suggest that you use 'verbose=True' so have an idea of how long it takes to run 1 iteration). \n",
        "\n",
        "*Note*: If you do again CV to choose the best architecture remember to save the best set of parameters into the variable: \"mlp_best_param\"."
      ]
    },
    {
      "cell_type": "code",
      "metadata": {
        "deletable": false,
        "nbgrader": {
          "cell_type": "code",
          "checksum": "07272b840428d02e8d707f2827805efd",
          "grade": false,
          "grade_id": "cell-21ceb4a0710c5e96",
          "locked": false,
          "schema_version": 3,
          "solution": true,
          "task": false
        },
        "id": "AawlvBTskIPL",
        "colab": {
          "base_uri": "https://localhost:8080/"
        },
        "outputId": "2cf09f66-1181-43b6-c261-fd19f8cb1bd0"
      },
      "source": [
        "#get training and test error for the best NN model from CV\n",
        "best_mlp_large = None\n",
        "training_error, test_error = None, None\n",
        "# YOUR CODE HERE\n",
        "best_mlp_large = MLPClassifier(**mlp_best_param, max_iter=max_iter, alpha=1e-4, solver='sgd', tol=1e-4,\n",
        "                        random_state=ID_number, learning_rate_init=.1, verbose=True)\n",
        "best_mlp_large.fit(x_train, y_train)\n",
        "training_error, test_error = 1 - best_mlp_large.score(x_train,y_train) , 1 - best_mlp_large.score(x_test,y_test)\n",
        "\n",
        "print ('\\nRESULTS FOR BEST NN\\n')\n",
        "\n",
        "print (f\"Best NN training error: {training_error:.4f}\")\n",
        "print (f\"Best NN test error: {test_error:.4f}\")"
      ],
      "execution_count": 23,
      "outputs": [
        {
          "output_type": "stream",
          "text": [
            "Iteration 1, loss = 0.33534278\n",
            "Iteration 2, loss = 0.13537344\n",
            "Iteration 3, loss = 0.10467406\n",
            "Iteration 4, loss = 0.08730991\n",
            "Iteration 5, loss = 0.07282980\n",
            "Iteration 6, loss = 0.06498690\n",
            "Iteration 7, loss = 0.05623035\n",
            "Iteration 8, loss = 0.05077804\n",
            "Iteration 9, loss = 0.04618508\n",
            "Iteration 10, loss = 0.04202419\n",
            "Iteration 11, loss = 0.03796529\n",
            "Iteration 12, loss = 0.03528295\n",
            "Iteration 13, loss = 0.03117207\n",
            "Iteration 14, loss = 0.03073658\n",
            "Iteration 15, loss = 0.02623975\n",
            "Iteration 16, loss = 0.02613273\n",
            "Iteration 17, loss = 0.02896457\n",
            "Iteration 18, loss = 0.02407204\n",
            "Iteration 19, loss = 0.02096069\n",
            "Iteration 20, loss = 0.02189310\n",
            "Iteration 21, loss = 0.02237331\n",
            "Iteration 22, loss = 0.02223752\n",
            "Iteration 23, loss = 0.02241093\n",
            "Iteration 24, loss = 0.02004459\n",
            "Iteration 25, loss = 0.02143227\n",
            "Iteration 26, loss = 0.01803661\n",
            "Iteration 27, loss = 0.01709308\n",
            "Iteration 28, loss = 0.01654846\n",
            "Iteration 29, loss = 0.01786712\n",
            "Iteration 30, loss = 0.01829428\n",
            "Iteration 31, loss = 0.01475834\n",
            "Iteration 32, loss = 0.01760355\n",
            "Iteration 33, loss = 0.01481290\n",
            "Iteration 34, loss = 0.01350598\n",
            "Iteration 35, loss = 0.01449575\n",
            "Iteration 36, loss = 0.01585467\n",
            "Iteration 37, loss = 0.01469174\n",
            "Iteration 38, loss = 0.01919781\n",
            "Iteration 39, loss = 0.01804692\n",
            "Iteration 40, loss = 0.01532753\n",
            "Iteration 41, loss = 0.01474873\n",
            "Iteration 42, loss = 0.01902522\n",
            "Iteration 43, loss = 0.01587703\n",
            "Iteration 44, loss = 0.01081910\n",
            "Iteration 45, loss = 0.00977036\n",
            "Iteration 46, loss = 0.01131791\n",
            "Iteration 47, loss = 0.01285078\n",
            "Iteration 48, loss = 0.01439863\n",
            "Iteration 49, loss = 0.01541661\n",
            "Iteration 50, loss = 0.01680312\n",
            "Iteration 51, loss = 0.01933461\n",
            "Iteration 52, loss = 0.01346598\n",
            "Iteration 53, loss = 0.01700241\n",
            "Iteration 54, loss = 0.01766119\n",
            "Iteration 55, loss = 0.00977936\n",
            "Iteration 56, loss = 0.01194833\n",
            "Training loss did not improve more than tol=0.000100 for 10 consecutive epochs. Stopping.\n",
            "\n",
            "RESULTS FOR BEST NN\n",
            "\n",
            "Best NN training error: 0.0040\n",
            "Best NN test error: 0.0281\n"
          ],
          "name": "stdout"
        }
      ]
    },
    {
      "cell_type": "code",
      "metadata": {
        "deletable": false,
        "editable": false,
        "nbgrader": {
          "cell_type": "code",
          "checksum": "92f74c6f90331e4be9a40075441dde9a",
          "grade": true,
          "grade_id": "cell-749912093733565e",
          "locked": true,
          "points": 3,
          "schema_version": 3,
          "solution": false,
          "task": false
        },
        "id": "fkNU3NIJkIPM"
      },
      "source": [
        "assert type(training_error) == np.float64\n",
        "assert type(test_error) == np.float64\n"
      ],
      "execution_count": 24,
      "outputs": []
    },
    {
      "cell_type": "code",
      "metadata": {
        "deletable": false,
        "nbgrader": {
          "cell_type": "code",
          "checksum": "1376177ee8dfaef53f642f2e3ca2ca50",
          "grade": false,
          "grade_id": "cell-ef2ebd626161b3c3",
          "locked": false,
          "schema_version": 3,
          "solution": true,
          "task": false
        },
        "id": "KNDA6wE8kIPM",
        "colab": {
          "base_uri": "https://localhost:8080/",
          "height": 671
        },
        "outputId": "07130a0e-5cbd-4665-d8a2-b0a55a258807"
      },
      "source": [
        "## TODO 8: compute the confusion matrices both on train and test set for Logistic regression (trained on 60k)\n",
        "# and MLP (trained on 60k).\n",
        "\n",
        "# Log Reg Confusion matrices\n",
        "log_reg_CM_train, log_reg_CM_test = None, None\n",
        "# YOUR CODE HERE\n",
        "log_reg_CM_train = sklearn.metrics.confusion_matrix(y_train, log_reg.predict(x_train))#confusion_matrix_by_hand(y_train, log_reg.predict(x_train))\n",
        "log_reg_CM_test = sklearn.metrics.confusion_matrix(y_test, log_reg.predict(x_test))#confusion_matrix_by_hand(y_test, log_reg.predict(x_test))\n",
        "\n",
        "# mlp\n",
        "mlp_CM_train, mlp_CM_test = None, None\n",
        "# YOUR CODE HERE\n",
        "mlp_CM_train = confusion_matrix_by_hand(y_train, best_mlp_large.predict(x_train))\n",
        "mlp_CM_test = confusion_matrix_by_hand(y_test, best_mlp_large.predict(x_test))\n",
        "\n",
        "# Convert confusion matrices to pandas data frames\n",
        "labels = np.unique(y_test)\n",
        "log_reg_CM_train_df = pd.DataFrame(log_reg_CM_train, index = labels, columns = labels)\n",
        "log_reg_CM_test_df = pd.DataFrame(log_reg_CM_test, index = labels, columns = labels)\n",
        "\n",
        "mlp_CM_train_df = pd.DataFrame(mlp_CM_train, index = labels, columns = labels)\n",
        "mlp_CM_test_df = pd.DataFrame(mlp_CM_test, index = labels, columns = labels)\n",
        "\n",
        "# Plot confusion matrices\n",
        "fig, axes = plt.subplots(1,2, figsize=(15,5))\n",
        "sn.heatmap(log_reg_CM_train_df, annot=True, ax=axes[0], cmap='rocket_r', vmax=250)\n",
        "sn.heatmap(log_reg_CM_test_df, annot=True, ax=axes[1], cmap='rocket_r', vmax=250)\n",
        "axes[0].set_title('Log Reg Train'), axes[1].set_title('Log Reg Test')\n",
        "\n",
        "fig, axes = plt.subplots(1,2, figsize=(15,5))\n",
        "sn.heatmap(mlp_CM_train_df, annot=True, ax=axes[0], cmap='rocket_r', vmax=50)\n",
        "sn.heatmap(mlp_CM_test_df, annot=True, ax=axes[1], cmap='rocket_r', vmax=50)\n",
        "axes[0].set_title('MLP Train'), axes[1].set_title('MLP Test')"
      ],
      "execution_count": 25,
      "outputs": [
        {
          "output_type": "execute_result",
          "data": {
            "text/plain": [
              "(Text(0.5, 1.0, 'MLP Train'), Text(0.5, 1.0, 'MLP Test'))"
            ]
          },
          "metadata": {
            "tags": []
          },
          "execution_count": 25
        },
        {
          "output_type": "display_data",
          "data": {
            "image/png": "[encoded data removed]",
            "text/plain": [
              "<Figure size 1080x360 with 4 Axes>"
            ]
          },
          "metadata": {
            "tags": [],
            "needs_background": "light"
          }
        },
        {
          "output_type": "display_data",
          "data": {
            "image/png": "[encoded data removed]",
            "text/plain": [
              "<Figure size 1080x360 with 4 Axes>"
            ]
          },
          "metadata": {
            "tags": [],
            "needs_background": "light"
          }
        }
      ]
    },
    {
      "cell_type": "code",
      "metadata": {
        "deletable": false,
        "editable": false,
        "nbgrader": {
          "cell_type": "code",
          "checksum": "56f669c88be1984b1e67a92933699740",
          "grade": true,
          "grade_id": "cell-20e1f551d47d4809",
          "locked": true,
          "points": 2,
          "schema_version": 3,
          "solution": false,
          "task": false
        },
        "id": "orgGnQZykIPN"
      },
      "source": [
        "assert log_reg_CM_train.shape == (10, 10)\n",
        "assert log_reg_CM_test.shape == (10, 10)\n",
        "assert mlp_CM_train.shape == (10, 10)\n",
        "assert mlp_CM_test.shape == (10, 10)\n"
      ],
      "execution_count": 26,
      "outputs": []
    },
    {
      "cell_type": "markdown",
      "metadata": {
        "deletable": false,
        "editable": false,
        "nbgrader": {
          "cell_type": "markdown",
          "checksum": "a0cd0d6edc2b504fa308234016e395ed",
          "grade": false,
          "grade_id": "cell-bb8ab6d807b36a9e",
          "locked": true,
          "schema_version": 3,
          "solution": false,
          "task": false
        },
        "id": "Vrume0vkkIPN"
      },
      "source": [
        "## TO DO 9\n",
        "Compare and discuss:\n",
        "- compare the computational time required to fit a SVM and a MLP. Which is faster as the number of data increase? Why? Can you apply both methods in the high data regime?\n",
        "- the results from SVM m=7500 and NN with m=60000 training data points.\n",
        "- the results from NN with m=500 and m=60000 training data points.\n",
        "- What do you observe in the confusion matrices? Which are the hardest classes? Are the hardest and easiest classes the same both for mlp and logistic regression?\n",
        "\n",
        "(Answer in the next cell, no need to write code)"
      ]
    },
    {
      "cell_type": "code",
      "metadata": {
        "deletable": false,
        "nbgrader": {
          "cell_type": "code",
          "checksum": "d99aa493023e864db6ea7ad3b742b124",
          "grade": true,
          "grade_id": "cell-fd40eed840f9e7a0",
          "locked": false,
          "points": 5,
          "schema_version": 3,
          "solution": true,
          "task": false
        },
        "id": "gfiUDY-VkIPN",
        "colab": {
          "base_uri": "https://localhost:8080/",
          "height": 100
        },
        "outputId": "ccbab83d-4d5c-4dd3-95a7-ade98a60c027"
      },
      "source": [
        "# YOUR CODE HERE\n",
        "'''\n",
        "1:\n",
        "SVMs training requires solving the associated Lagrangian dual problem. This is a quadratic optimization problem in which the number of variables is very large. So, training time is proportional to the \n",
        "square of number of samples, while for NNs the training time is linear. Then, like my expectation the Neural Network is more fast than SVM as the number of data increase. Therefore, with high data regime\n",
        "the SVMs take too much time and as a consequence we have used Logistic Regression.\n",
        "\n",
        "2:\n",
        "In general, with the same quantity of data the test error of the SVM is less than the NN but still the problem of time that doesn't grow quadratically in the NN, so in this last model I can increase the\n",
        "number of samples and have a better test error with respect to the error of SVN with m=7500 (i.e. SVM test error: 0.05 > NN test error: 0.0281).\n",
        "\n",
        "3:\n",
        "In NN with m=60000 the result are better, the error is lower of an order of magnitude with respect to NN with m=500 (m=500: 0.144993 , m=60k:  0.0281). Moreover, with more samples, I decrease the \n",
        "possibility of overfitting that is also limited by croos-validation. \n",
        "\n",
        "4:\n",
        "The confusion matrices and the train/test error tell us that surely the results are betten than before, in particolar the NN have better result than the LogisticRegression (use linear decision boundary). \n",
        "In general, the classies that was correctly classified before remain good now and the same for the 'bad classes'. If i consider the sum for counting the mistakes on each class, in the Logisticregression, \n",
        "the hardest class is the 8 followed by 2,3,5 and 9, while for MLP the number 5 and 9 have the same quantity of errors. Therefore, I can say that some similitudes are present and by looking to the 'easiest\n",
        "classes' I can conferm this fact beacause is the same for both, i.e. 1. \n",
        "'''"
      ],
      "execution_count": 27,
      "outputs": [
        {
          "output_type": "execute_result",
          "data": {
            "application/vnd.google.colaboratory.intrinsic+json": {
              "type": "string"
            },
            "text/plain": [
              "\"\\nSVMs training requires solving the associated Lagrangian dual problem. This is a quadratic optimization problem in which the number of variables is very large. So, training time is proportional to the \\nsquare of number of samples, while for NNs the training time is linear. Then, like my expectation the Neural Network is more fast than SVM as the number of data increase. Therefore, with high data regime\\nthe SVMs take too much time and as a consequence we have used Logistic Regression.\\n\\nIn general, with the same quantity of data the test error of the SVM is less than the NN but still the problem of time that doesn't grow quadratically in the NN, so in this last model I can increase the number of samples and\\nhave a better test error with respect to the error of SVN with m=7500.\\n\\nIn NN with m=60000 the result are better, the error is lower of an order of magnitude with respect to NN with m=500. Moreover, with more samples I decrease the possibility of overfitting that is also \\nlimited by croos-validation.\\n\\nThe confusion matrices and the train/test error tell us that surely the results are betten than before, in particolar the NN have better result than the LogisticRegression. \\nIn general, the classies that was correctly classified before remain good now and the same for the 'bad classes'. If i consider the sum for counting the mistakes on each class, in the Logisticregression, \\nthe hardest class is the 8 followed by 2,3,5 and 9, while for MLP the number 5 and 9 have the same quantity of errors. Therefore, I can say that some similitudes are present and by looking to the 'easiest\\nclasses' I can conferm this fact beacause is the same for both, i.e. 1. \\n\""
            ]
          },
          "metadata": {
            "tags": []
          },
          "execution_count": 27
        }
      ]
    }
  ]
}